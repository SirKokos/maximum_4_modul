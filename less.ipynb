{
 "cells": [
  {
   "cell_type": "code",
   "execution_count": 23,
   "metadata": {},
   "outputs": [
    {
     "data": {
      "text/plain": [
       "81"
      ]
     },
     "execution_count": 23,
     "metadata": {},
     "output_type": "execute_result"
    }
   ],
   "source": [
    "count = 0\n",
    "for i in range(9):\n",
    "    for j in range(9):\n",
    "        count += 1\n",
    "\n",
    "count\n",
    "    "
   ]
  },
  {
   "cell_type": "code",
   "execution_count": 16,
   "metadata": {},
   "outputs": [
    {
     "name": "stdout",
     "output_type": "stream",
     "text": [
      "------------\n",
      "a 2\n",
      "------------\n",
      "a 2\n",
      "------------\n",
      "b 3\n",
      "------------\n",
      "b 3\n",
      "------------\n",
      "b 3\n"
     ]
    }
   ],
   "source": [
    "def strcounter(s): #решение за N**2\n",
    "    for sym in s:\n",
    "        counter = 0\n",
    "        print(\"------------\")\n",
    "        for sub_sym in s:\n",
    "            if sym == sub_sym:\n",
    "                counter += 1\n",
    "        print(sym, counter)\n",
    "\n",
    "strcounter('aaabbbdddd')"
   ]
  },
  {
   "cell_type": "code",
   "execution_count": 15,
   "metadata": {},
   "outputs": [
    {
     "data": {
      "text/plain": [
       "{'a', 'b', 'd'}"
      ]
     },
     "execution_count": 15,
     "metadata": {},
     "output_type": "execute_result"
    }
   ],
   "source": [
    "set(\"aaabbbdddd\")"
   ]
  },
  {
   "cell_type": "code",
   "execution_count": 14,
   "metadata": {},
   "outputs": [
    {
     "name": "stdout",
     "output_type": "stream",
     "text": [
      "a 2\n",
      "c 2\n",
      "d 1\n",
      "b 4\n"
     ]
    }
   ],
   "source": [
    "\n",
    "def strcounter(s): # решение за N * M\n",
    "    for sym in set(s):\n",
    "        counter = 0\n",
    "        for sub_sym in s:\n",
    "            if sym == sub_sym:\n",
    "                counter += 1\n",
    "        print(sym, counter)\n",
    "\n",
    "strcounter('aabbbbccd')"
   ]
  },
  {
   "cell_type": "code",
   "execution_count": 22,
   "metadata": {},
   "outputs": [
    {
     "data": {
      "text/plain": [
       "27"
      ]
     },
     "execution_count": 22,
     "metadata": {},
     "output_type": "execute_result"
    }
   ],
   "source": [
    "count = 0\n",
    "for i in range(3):\n",
    "    for j in range(9):\n",
    "        count += 1\n",
    "\n",
    "count\n",
    "    "
   ]
  },
  {
   "cell_type": "code",
   "execution_count": 66,
   "metadata": {},
   "outputs": [
    {
     "name": "stdout",
     "output_type": "stream",
     "text": [
      "a 2\n",
      "b 4\n",
      "c 2\n",
      "d 1\n"
     ]
    }
   ],
   "source": [
    "def strcounter(s): # решение за N\n",
    "    syms_counter = {}\n",
    "    for sym in s:\n",
    "        syms_counter[sym] = syms_counter.get(sym, 0) +1  \n",
    "\n",
    "    for sym, count in syms_counter.items():\n",
    "        print(sym, count)\n",
    "strcounter('aabbbbccd')\n"
   ]
  },
  {
   "cell_type": "code",
   "execution_count": 65,
   "metadata": {},
   "outputs": [
    {
     "data": {
      "text/plain": [
       "{'d': 1, 's': 1, 'a': 1, ' ': 1}"
      ]
     },
     "execution_count": 65,
     "metadata": {},
     "output_type": "execute_result"
    }
   ],
   "source": [
    "s= \"dsadsa\"\n",
    "syms_counter = {}\n",
    "for sym in s:\n",
    "    syms_counter[sym] = syms_counter.get(sym, 0) + 1\n",
    "\n",
    "syms_counter"
   ]
  },
  {
   "attachments": {},
   "cell_type": "markdown",
   "metadata": {},
   "source": [
    "dict.get(key[, value]) \n",
    "Параметры get() в Python принимает максимум два параметра: key ‒ ключ для поиска в словаре; value (необязательно) ‒ значение, которое будет возвращено, если ключ не найден. Значение по умолчанию — Нет.\n"
   ]
  },
  {
   "cell_type": "code",
   "execution_count": 25,
   "metadata": {},
   "outputs": [
    {
     "data": {
      "text/plain": [
       "{'a': 0}"
      ]
     },
     "execution_count": 25,
     "metadata": {},
     "output_type": "execute_result"
    }
   ],
   "source": [
    "d = {}\n",
    "d[\"a\"] = d.get(\"a\",0)\n",
    "d"
   ]
  },
  {
   "attachments": {},
   "cell_type": "markdown",
   "metadata": {},
   "source": [
    "https://git-scm.com/"
   ]
  }
 ],
 "metadata": {
  "kernelspec": {
   "display_name": "Python 3",
   "language": "python",
   "name": "python3"
  },
  "language_info": {
   "codemirror_mode": {
    "name": "ipython",
    "version": 3
   },
   "file_extension": ".py",
   "mimetype": "text/x-python",
   "name": "python",
   "nbconvert_exporter": "python",
   "pygments_lexer": "ipython3",
   "version": "3.11.3"
  },
  "orig_nbformat": 4
 },
 "nbformat": 4,
 "nbformat_minor": 2
}
